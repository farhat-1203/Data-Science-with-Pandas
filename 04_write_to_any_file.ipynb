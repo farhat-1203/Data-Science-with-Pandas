{
 "cells": [
  {
   "cell_type": "markdown",
   "id": "932a6f0b-6fb0-468d-8fe8-3e47c4531b0d",
   "metadata": {},
   "source": [
    "Writing a CSV file:"
   ]
  },
  {
   "cell_type": "code",
   "execution_count": 10,
   "id": "b2872d64-3ace-4c5a-aae9-a76ffa196bb9",
   "metadata": {},
   "outputs": [],
   "source": [
    "import pandas as pd\n",
    "weather_update= {\"day\":[\"1/7/2019\",\"1/8/2019\",\"1/9/2019\",\"1/10/2019\",\"1/11/2019\",\"1/12/2019\"],\"temperature\":[30,34,18,16,29,36],\n",
    "               \"windspeed\":[6,7,2,7,4,2],\"event\":[\"Rain\",\"Sunny\",\"Snow\",\"Snow\",\"Rain\",\"Sunny\"]}\n",
    "df=pd.DataFrame(weather_update)\n",
    "df\n",
    "df.to_csv(\"weather_update.csv\")\n",
    "\n",
    "# here first we created a dictionary for the data frame, then we tranferred all the data into a CSV file.. using the 'to_csv' arguement.\n",
    "# this CSV file will be visible in the same folder where ou 'ipynb' file exists; we can even make changes to it, by using some functions."
   ]
  },
  {
   "cell_type": "code",
   "execution_count": 13,
   "id": "78d95b81-4696-4e5b-808a-a16d70a7337b",
   "metadata": {},
   "outputs": [],
   "source": [
    "df.to_csv(\"weather_update.csv\", index=False)  # the indexes of all the rows would be removed here"
   ]
  },
  {
   "cell_type": "code",
   "execution_count": 14,
   "id": "5a826558-c426-4339-97cb-127a23f45f67",
   "metadata": {},
   "outputs": [
    {
     "data": {
      "text/plain": [
       "Index(['day', 'temperature', 'windspeed', 'event'], dtype='object')"
      ]
     },
     "execution_count": 14,
     "metadata": {},
     "output_type": "execute_result"
    }
   ],
   "source": [
    "df.columns   # displays all the columns in the dataset"
   ]
  },
  {
   "cell_type": "code",
   "execution_count": 17,
   "id": "56c7dd4e-1109-4d11-b779-9626a9dbb656",
   "metadata": {},
   "outputs": [],
   "source": [
    "# out of all the columns, if we want to display a particular columnn, then the 'columns' attr is given, which takes the column names to be displayed as the input\n",
    "df.to_csv(\"weather_update.csv\", columns= [\"day\",\"event\"])  "
   ]
  },
  {
   "cell_type": "code",
   "execution_count": 18,
   "id": "6d5cbe98-3ff2-49ba-8678-35d086074fa8",
   "metadata": {},
   "outputs": [],
   "source": [
    "df.to_csv(\"weather_update.csv\", header=False)   # the header=False argument removes the header, and makes the first row as the header by default "
   ]
  },
  {
   "cell_type": "code",
   "execution_count": null,
   "id": "5713f1d6-4845-45a8-9b72-800b78b468bb",
   "metadata": {},
   "outputs": [],
   "source": []
  }
 ],
 "metadata": {
  "kernelspec": {
   "display_name": "Python 3 (ipykernel)",
   "language": "python",
   "name": "python3"
  },
  "language_info": {
   "codemirror_mode": {
    "name": "ipython",
    "version": 3
   },
   "file_extension": ".py",
   "mimetype": "text/x-python",
   "name": "python",
   "nbconvert_exporter": "python",
   "pygments_lexer": "ipython3",
   "version": "3.12.2"
  }
 },
 "nbformat": 4,
 "nbformat_minor": 5
}
