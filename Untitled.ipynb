{
 "cells": [
  {
   "cell_type": "code",
   "execution_count": null,
   "id": "a800bad5-4c05-4e12-91cc-fd3222133235",
   "metadata": {},
   "outputs": [],
   "source": []
  }
 ],
 "metadata": {
  "kernelspec": {
   "display_name": "",
   "name": ""
  },
  "language_info": {
   "name": ""
  }
 },
 "nbformat": 4,
 "nbformat_minor": 5
}
